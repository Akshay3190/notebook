{
 "cells": [
  {
   "cell_type": "markdown",
   "id": "dd4fb482-2ecc-4d8f-be4f-f6167f1c7960",
   "metadata": {},
   "source": [
    "# Data Science Tools & Ecosystem"
   ]
  },
  {
   "cell_type": "markdown",
   "id": "c3dd9a44-58ae-405f-bb67-ebc4a379b499",
   "metadata": {},
   "source": [
    "In this notebook, Data Science tools & ecosystems are summarised."
   ]
  },
  {
   "cell_type": "markdown",
   "id": "298acf13-01e6-4ef0-9b9b-2cb9c9e2ce76",
   "metadata": {},
   "source": [
    "**Objectives:**"
   ]
  },
  {
   "cell_type": "markdown",
   "id": "eacde0cb-7d1d-4438-a935-7c11d4619b2c",
   "metadata": {},
   "source": [
    "List popular languages for Data Science\n",
    "- Python\n",
    "- R\n",
    "- SQL\n",
    "- Java\n",
    "- Scala\n"
   ]
  },
  {
   "cell_type": "markdown",
   "id": "ceb5db98-3954-4f55-a910-e913a6adcba2",
   "metadata": {},
   "source": [
    "Some of the popular languages that Data Scientists use are:\n",
    "1. Pyhton\n",
    "2. R\n",
    "3. Scala"
   ]
  },
  {
   "cell_type": "markdown",
   "id": "b86daf6a-93e8-452b-b57a-1fa96820e2c1",
   "metadata": {},
   "source": [
    "Some of the commonly used libraries used by Data Scientists include:\n",
    "1. Numpy\n",
    "2. Panda\n",
    "3. Matplotlib\n",
    "4. Seaborn"
   ]
  },
  {
   "cell_type": "markdown",
   "id": "e0b2a80c-fd22-41c5-9c71-235d8a9d5fff",
   "metadata": {},
   "source": [
    "| Data Science Tools |\n",
    "| ------------------ |\n",
    "| Jupyter Notebook |\n",
    "| VS Code |\n",
    "| GitLab |\n",
    "| Git |\n",
    "\n"
   ]
  },
  {
   "cell_type": "markdown",
   "id": "61b48cf2-1a5a-4ab6-b61d-cbf6d6bb2919",
   "metadata": {},
   "source": [
    "### Below are a few examples of evaluating arithmetic expressions in Python"
   ]
  },
  {
   "cell_type": "code",
   "execution_count": 2,
   "id": "69853e74-9a75-47b8-823c-c2e4dbf80462",
   "metadata": {
    "tags": []
   },
   "outputs": [
    {
     "data": {
      "text/plain": [
       "'This a simple arithmetic expression to mutiply then add integers'"
      ]
     },
     "execution_count": 2,
     "metadata": {},
     "output_type": "execute_result"
    }
   ],
   "source": [
    "\"This a simple arithmetic expression to mutiply then add integers\""
   ]
  },
  {
   "cell_type": "code",
   "execution_count": 3,
   "id": "e3760401-17b3-44d0-b011-495c4372f778",
   "metadata": {
    "tags": []
   },
   "outputs": [
    {
     "data": {
      "text/plain": [
       "17"
      ]
     },
     "execution_count": 3,
     "metadata": {},
     "output_type": "execute_result"
    }
   ],
   "source": [
    "(3*4)+5"
   ]
  },
  {
   "cell_type": "markdown",
   "id": "21e7044c-1122-4ef9-b061-e8ea1ac95f40",
   "metadata": {},
   "source": [
    "## Author\n",
    "Akshay Kulkarni"
   ]
  },
  {
   "cell_type": "code",
   "execution_count": null,
   "id": "98e7dc6c-f226-49ab-835f-6dd987c85eb1",
   "metadata": {},
   "outputs": [],
   "source": []
  }
 ],
 "metadata": {
  "kernelspec": {
   "display_name": "Python",
   "language": "python",
   "name": "conda-env-python-py"
  },
  "language_info": {
   "codemirror_mode": {
    "name": "ipython",
    "version": 3
   },
   "file_extension": ".py",
   "mimetype": "text/x-python",
   "name": "python",
   "nbconvert_exporter": "python",
   "pygments_lexer": "ipython3",
   "version": "3.7.12"
  }
 },
 "nbformat": 4,
 "nbformat_minor": 5
}
